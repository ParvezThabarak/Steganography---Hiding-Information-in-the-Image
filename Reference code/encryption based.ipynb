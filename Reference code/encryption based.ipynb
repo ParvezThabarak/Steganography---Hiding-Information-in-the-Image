{
 "cells": [
  {
   "cell_type": "code",
   "execution_count": 4,
   "id": "b9cc1fcf-6560-4d6d-9b76-1170ea91f04a",
   "metadata": {},
   "outputs": [],
   "source": [
    "#secret , key stegno stegno object  +   encryption key     cipher\n",
    "# 2 step verification\n",
    "import cv2\n",
    "import string\n",
    "import os\n",
    "from Crypto.Cipher import AES #AES cipher\n",
    "from Crypto.Util.Padding import pad, unpad #ensure input text fits AES Block size\n",
    "from Crypto.Random import get_random_bytes\n",
    "import hashlib"
   ]
  },
  {
   "cell_type": "code",
   "execution_count": 5,
   "id": "8572efe2-b694-4be3-b34b-7db4063dd31e",
   "metadata": {},
   "outputs": [],
   "source": [
    "#key generation\n",
    "#encryption\n",
    "#decryption\n",
    "\n",
    "def derive_key(userkey):\n",
    "    return hashlib.sha256(userkey.encode()).digest()[:16]"
   ]
  },
  {
   "cell_type": "code",
   "execution_count": 6,
   "id": "0dd66124-3515-40ea-804e-1f971c5f0c8f",
   "metadata": {},
   "outputs": [],
   "source": [
    "def encrypt_message(msg, userkey):\n",
    "    key=derive_key(userkey)  #hashing key\n",
    "    cipher=AES.new(key, AES.MODE_CBC) #AES Cipher\n",
    "    ct=cipher.encrypt(pad(msg.encode(), AES.block_size))\n",
    "    return cipher.iv + ct"
   ]
  },
  {
   "cell_type": "code",
   "execution_count": 7,
   "id": "b49df854-9f2e-4694-a064-75d891552176",
   "metadata": {},
   "outputs": [],
   "source": [
    "def decrypt_message(cipher_bytes, userkey):\n",
    "    key=derive_key(userkey)  #hashing key\n",
    "    iv=cipher_bytes[:16]\n",
    "    ct=cipher_bytes[16:]\n",
    "    cipher=AES.new(key, AES.MODE_CBC,iv)\n",
    "    return unpad(cipher.decrypt(ct), AES.block_size).decode()"
   ]
  },
  {
   "cell_type": "code",
   "execution_count": 8,
   "id": "f705f447-9a4d-4be3-adef-21adc14e82f7",
   "metadata": {},
   "outputs": [],
   "source": [
    "d={}\n",
    "c={}\n",
    "for i in range(256):\n",
    "    d[chr(i)]=i\n",
    "    c[i]=chr(i)"
   ]
  },
  {
   "cell_type": "code",
   "execution_count": 9,
   "id": "530df236-398a-410e-830e-d7bf8e9c9329",
   "metadata": {},
   "outputs": [
    {
     "name": "stdout",
     "output_type": "stream",
     "text": [
      "[[[204 179 105]\n",
      "  [136 129  86]\n",
      "  [ 87 115 139]\n",
      "  ...\n",
      "  [ 41  62  77]\n",
      "  [ 14  33  48]\n",
      "  [103 122 137]]\n",
      "\n",
      " [[154 145 102]\n",
      "  [ 86  90  71]\n",
      "  [ 90 119 150]\n",
      "  ...\n",
      "  [ 51  70  85]\n",
      "  [ 33  52  67]\n",
      "  [ 31  50  65]]\n",
      "\n",
      " [[ 89 108 129]\n",
      "  [ 83 107 137]\n",
      "  [ 84 120 168]\n",
      "  ...\n",
      "  [ 46  62  78]\n",
      "  [ 32  49  62]\n",
      "  [ 29  46  59]]\n",
      "\n",
      " ...\n",
      "\n",
      " [[ 16  27  65]\n",
      "  [ 21  33  69]\n",
      "  [ 20  31  69]\n",
      "  ...\n",
      "  [ 13  20  29]\n",
      "  [ 13  20  29]\n",
      "  [  9  16  25]]\n",
      "\n",
      " [[ 14  23  60]\n",
      "  [ 18  28  62]\n",
      "  [ 16  25  62]\n",
      "  ...\n",
      "  [ 13  20  29]\n",
      "  [ 13  20  29]\n",
      "  [ 10  17  26]]\n",
      "\n",
      " [[ 12  21  55]\n",
      "  [ 16  25  59]\n",
      "  [ 13  22  56]\n",
      "  ...\n",
      "  [ 13  20  29]\n",
      "  [ 13  20  29]\n",
      "  [ 10  17  26]]]\n"
     ]
    }
   ],
   "source": [
    "x=cv2.imread(r\"D:\\IBM CYBER\\naruto.jpg\")\n",
    "print(x)"
   ]
  },
  {
   "cell_type": "code",
   "execution_count": 10,
   "id": "32ace9b8-d4d6-4af5-ad49-b54a8b728c7d",
   "metadata": {},
   "outputs": [],
   "source": [
    "key=\"123\"\n",
    "text=\"secret\""
   ]
  },
  {
   "cell_type": "code",
   "execution_count": 11,
   "id": "c2fa4784-c986-49be-aaa4-bfb74381ed19",
   "metadata": {},
   "outputs": [
    {
     "name": "stdout",
     "output_type": "stream",
     "text": [
      "32\n"
     ]
    }
   ],
   "source": [
    "encrypted_bytes=encrypt_message(text, key)\n",
    "l=len(encrypted_bytes)\n",
    "print(l)"
   ]
  },
  {
   "cell_type": "code",
   "execution_count": 12,
   "id": "5bdfce9f-3bfc-43a4-8155-d782d514eee5",
   "metadata": {},
   "outputs": [],
   "source": [
    "n=0  #number of rows\n",
    "m=0  #number of columns\n",
    "z=0  #colour panel\n",
    "kl=0\n",
    "for i in range(1):\n",
    "    x[n,m,z]=encrypted_bytes[i] ^ d[key[kl]]  #important\n",
    "    #print(f\"Embedding '{text[i]}' (ASCII {d[text[i]]}) XOR '{key[kl]}' (ASCII {d[key[kl]]}) = {new_val} at pixel ({n},{m},{z}) [original={orig_val}]\")\n",
    "    n=n+1\n",
    "    m=m+1\n",
    "    m=(m+1)%3\n",
    "    z=(z+1)%3\n",
    "    kl=(kl+1)%len(key)"
   ]
  },
  {
   "cell_type": "code",
   "execution_count": 13,
   "id": "7d236f99-69dc-4ba3-b7da-0da5d4ebf6e5",
   "metadata": {},
   "outputs": [
    {
     "name": "stdout",
     "output_type": "stream",
     "text": [
      "success\n"
     ]
    }
   ],
   "source": [
    "cv2.imwrite(\"encrypting.jpg\",x)\n",
    "os.startfile(\"encrypting.jpg\")\n",
    "print(\"success\")"
   ]
  },
  {
   "cell_type": "code",
   "execution_count": 18,
   "id": "6a4c02cb-9305-441b-8749-27b059d347f1",
   "metadata": {},
   "outputs": [
    {
     "name": "stdin",
     "output_type": "stream",
     "text": [
      "renter key 2\n"
     ]
    },
    {
     "name": "stdout",
     "output_type": "stream",
     "text": [
      "key mismatch\n"
     ]
    }
   ],
   "source": [
    "n,m,z=0,0,0\n",
    "kl=0\n",
    "key1=input(\"renter key\")\n",
    "if key==key1:\n",
    "    encrypted_back=bytearray()\n",
    "    for i in range(l):\n",
    "        encrypted_back.append(x[n,m,z]^d[key[kl]])\n",
    "        n=n+1\n",
    "        m=m+1\n",
    "        m=(m+1)%3\n",
    "        z=(z+1)%3\n",
    "        kl=(kl+1)%len(key)\n",
    "        decrypted=decrypt_message(bytes(encrypted_back),key)\n",
    "        print(decrypt)\n",
    "else:\n",
    "    print(\"key mismatch\")"
   ]
  },
  {
   "cell_type": "code",
   "execution_count": null,
   "id": "77d1c0a9-165b-469d-ba6a-18d5d1afb254",
   "metadata": {},
   "outputs": [],
   "source": []
  }
 ],
 "metadata": {
  "kernelspec": {
   "display_name": "Python 3 (ipykernel)",
   "language": "python",
   "name": "python3"
  },
  "language_info": {
   "codemirror_mode": {
    "name": "ipython",
    "version": 3
   },
   "file_extension": ".py",
   "mimetype": "text/x-python",
   "name": "python",
   "nbconvert_exporter": "python",
   "pygments_lexer": "ipython3",
   "version": "3.12.0"
  }
 },
 "nbformat": 4,
 "nbformat_minor": 5
}
